{
  "nbformat": 4,
  "nbformat_minor": 0,
  "metadata": {
    "colab": {
      "name": "TwitterSentimentAnalysis_NLP.ipynb",
      "provenance": [],
      "collapsed_sections": []
    },
    "kernelspec": {
      "name": "python3",
      "display_name": "Python 3"
    },
    "language_info": {
      "name": "python"
    }
  },
  "cells": [
    {
      "cell_type": "markdown",
      "metadata": {
        "id": "CIrZ0D2g_i6_"
      },
      "source": [
        "# Installing Important Libraries"
      ]
    },
    {
      "cell_type": "code",
      "metadata": {
        "colab": {
          "base_uri": "https://localhost:8080/"
        },
        "id": "NPVrAYWN846w",
        "outputId": "23a8ab90-1e4b-443a-eee0-cfd29e54fe33"
      },
      "source": [
        "% pip install tweepy"
      ],
      "execution_count": null,
      "outputs": [
        {
          "output_type": "stream",
          "text": [
            "Requirement already satisfied: tweepy in /usr/local/lib/python3.7/dist-packages (3.10.0)\n",
            "Requirement already satisfied: six>=1.10.0 in /usr/local/lib/python3.7/dist-packages (from tweepy) (1.15.0)\n",
            "Requirement already satisfied: requests[socks]>=2.11.1 in /usr/local/lib/python3.7/dist-packages (from tweepy) (2.23.0)\n",
            "Requirement already satisfied: requests-oauthlib>=0.7.0 in /usr/local/lib/python3.7/dist-packages (from tweepy) (1.3.0)\n",
            "Requirement already satisfied: idna<3,>=2.5 in /usr/local/lib/python3.7/dist-packages (from requests[socks]>=2.11.1->tweepy) (2.10)\n",
            "Requirement already satisfied: certifi>=2017.4.17 in /usr/local/lib/python3.7/dist-packages (from requests[socks]>=2.11.1->tweepy) (2021.5.30)\n",
            "Requirement already satisfied: urllib3!=1.25.0,!=1.25.1,<1.26,>=1.21.1 in /usr/local/lib/python3.7/dist-packages (from requests[socks]>=2.11.1->tweepy) (1.24.3)\n",
            "Requirement already satisfied: chardet<4,>=3.0.2 in /usr/local/lib/python3.7/dist-packages (from requests[socks]>=2.11.1->tweepy) (3.0.4)\n",
            "Requirement already satisfied: PySocks!=1.5.7,>=1.5.6; extra == \"socks\" in /usr/local/lib/python3.7/dist-packages (from requests[socks]>=2.11.1->tweepy) (1.7.1)\n",
            "Requirement already satisfied: oauthlib>=3.0.0 in /usr/local/lib/python3.7/dist-packages (from requests-oauthlib>=0.7.0->tweepy) (3.1.1)\n"
          ],
          "name": "stdout"
        }
      ]
    },
    {
      "cell_type": "code",
      "metadata": {
        "colab": {
          "base_uri": "https://localhost:8080/"
        },
        "id": "FE_kEuRY_fK8",
        "outputId": "36f9d68b-d2ee-492e-dac3-1d73a1b603da"
      },
      "source": [
        "% pip install textblob"
      ],
      "execution_count": null,
      "outputs": [
        {
          "output_type": "stream",
          "text": [
            "Requirement already satisfied: textblob in /usr/local/lib/python3.7/dist-packages (0.15.3)\n",
            "Requirement already satisfied: nltk>=3.1 in /usr/local/lib/python3.7/dist-packages (from textblob) (3.2.5)\n",
            "Requirement already satisfied: six in /usr/local/lib/python3.7/dist-packages (from nltk>=3.1->textblob) (1.15.0)\n"
          ],
          "name": "stdout"
        }
      ]
    },
    {
      "cell_type": "markdown",
      "metadata": {
        "id": "556caBVDEMel"
      },
      "source": [
        "# Import Libraries"
      ]
    },
    {
      "cell_type": "code",
      "metadata": {
        "id": "BDq2jxXA_o4Y"
      },
      "source": [
        "import tweepy\n",
        "from textblob import TextBlob\n",
        "import pandas as pd\n",
        "import numpy as np\n",
        "import re\n",
        "import matplotlib.pyplot as plt\n",
        "from wordcloud import WordCloud"
      ],
      "execution_count": null,
      "outputs": []
    },
    {
      "cell_type": "markdown",
      "metadata": {
        "id": "Q2rooauEF3mk"
      },
      "source": [
        "# Import the configuration i.e keys saved from twitter developer account"
      ]
    },
    {
      "cell_type": "code",
      "metadata": {
        "id": "oNkKOzvpEgtJ"
      },
      "source": [
        "#import the configuration\n",
        "#twitter access tokens\n",
        "config = pd.read_csv('https://raw.githubusercontent.com/chinmayee521/Data/main/config.csv?token=AMJAJYRLTHHX2CVM76DCLDTA5ZPGU')\n"
      ],
      "execution_count": null,
      "outputs": []
    },
    {
      "cell_type": "code",
      "metadata": {
        "id": "Tz2ukoP_FOVZ"
      },
      "source": [
        "#retrieve all the individual keys\n",
        "twitterApiKey = config['twitterApiKey'][0]\n",
        "twitterApiSecret = config['twitterApiSecret'][0]\n",
        "twitterApiAccessToken = config['twitterApiAccessToken'][0]\n",
        "twitterApiAccessTokenSecret = config['twitterApiAccessTokenSecret'][0]"
      ],
      "execution_count": null,
      "outputs": []
    },
    {
      "cell_type": "markdown",
      "metadata": {
        "id": "kWx0pL1BGGLh"
      },
      "source": [
        "# Authenticate and set token using Tweepy"
      ]
    },
    {
      "cell_type": "code",
      "metadata": {
        "id": "0VrSq3NBF2EV"
      },
      "source": [
        "#Authenticate token using Tweepy\n",
        "auth = tweepy.OAuthHandler(twitterApiKey, twitterApiSecret)\n",
        "#Set access token\n",
        "auth.set_access_token(twitterApiAccessToken, twitterApiAccessTokenSecret)\n",
        "#Authenticate using tweepy api function\n",
        "twitterApi = tweepy.API(auth, wait_on_rate_limit = True)"
      ],
      "execution_count": null,
      "outputs": []
    },
    {
      "cell_type": "code",
      "metadata": {
        "id": "ssm0oRRmG8CO"
      },
      "source": [
        "#user input\n",
        "twitterAccount = \"srbachchan\""
      ],
      "execution_count": null,
      "outputs": []
    },
    {
      "cell_type": "code",
      "metadata": {
        "id": "gu5bv9ovHLrc"
      },
      "source": [
        "#exclude replies, 50 tweets from twitter account will be retrieved in tweets\n",
        "tweets = tweepy.Cursor(twitterApi.user_timeline,\n",
        "                       screen_name = twitterAccount,\n",
        "                       count = None,\n",
        "                       since_id = None,\n",
        "                       max_id = None, trim_user = True, exclude_replies = True,\n",
        "                       contributor_details = False,\n",
        "                       include_entities = False).items(50);"
      ],
      "execution_count": null,
      "outputs": []
    },
    {
      "cell_type": "markdown",
      "metadata": {
        "id": "5tjJu0XjIBiW"
      },
      "source": [
        "# Create dataframe with tweets"
      ]
    },
    {
      "cell_type": "code",
      "metadata": {
        "id": "ENz5fGTtH8fO"
      },
      "source": [
        "#takes all 50 tweets and forms a dataframe with column name Tweet\n",
        "df = pd.DataFrame(data = [tweet.text for tweet in tweets], columns = ['Tweet'])"
      ],
      "execution_count": null,
      "outputs": []
    },
    {
      "cell_type": "code",
      "metadata": {
        "colab": {
          "base_uri": "https://localhost:8080/",
          "height": 203
        },
        "id": "3mUnYI5OIff0",
        "outputId": "a3c0e005-4dae-4ce6-b3bd-f0810478d0d9"
      },
      "source": [
        "#look up 5 rows from df\n",
        "df.head()"
      ],
      "execution_count": null,
      "outputs": [
        {
          "output_type": "execute_result",
          "data": {
            "text/html": [
              "<div>\n",
              "<style scoped>\n",
              "    .dataframe tbody tr th:only-of-type {\n",
              "        vertical-align: middle;\n",
              "    }\n",
              "\n",
              "    .dataframe tbody tr th {\n",
              "        vertical-align: top;\n",
              "    }\n",
              "\n",
              "    .dataframe thead th {\n",
              "        text-align: right;\n",
              "    }\n",
              "</style>\n",
              "<table border=\"1\" class=\"dataframe\">\n",
              "  <thead>\n",
              "    <tr style=\"text-align: right;\">\n",
              "      <th></th>\n",
              "      <th>Tweet</th>\n",
              "    </tr>\n",
              "  </thead>\n",
              "  <tbody>\n",
              "    <tr>\n",
              "      <th>0</th>\n",
              "      <td>T 3958 -\" 🙏🙏🙏🙏🙏\\n\\nAn epic era has drawn curta...</td>\n",
              "    </tr>\n",
              "    <tr>\n",
              "      <th>1</th>\n",
              "      <td>T 3958 - An institution has gone .. whenever t...</td>\n",
              "    </tr>\n",
              "    <tr>\n",
              "      <th>2</th>\n",
              "      <td>T 3957 - ... a prayer for them that suffer mis...</td>\n",
              "    </tr>\n",
              "    <tr>\n",
              "      <th>3</th>\n",
              "      <td>T 3956 - ये दुनिया, दुनिया न रहकर ; सुझाओं की ...</td>\n",
              "    </tr>\n",
              "    <tr>\n",
              "      <th>4</th>\n",
              "      <td>T 3955 - सुनो सुनो ऐ दुनिया वालों  :\\nये virus...</td>\n",
              "    </tr>\n",
              "  </tbody>\n",
              "</table>\n",
              "</div>"
            ],
            "text/plain": [
              "                                               Tweet\n",
              "0  T 3958 -\" 🙏🙏🙏🙏🙏\\n\\nAn epic era has drawn curta...\n",
              "1  T 3958 - An institution has gone .. whenever t...\n",
              "2  T 3957 - ... a prayer for them that suffer mis...\n",
              "3  T 3956 - ये दुनिया, दुनिया न रहकर ; सुझाओं की ...\n",
              "4  T 3955 - सुनो सुनो ऐ दुनिया वालों  :\\nये virus..."
            ]
          },
          "metadata": {
            "tags": []
          },
          "execution_count": 10
        }
      ]
    },
    {
      "cell_type": "code",
      "metadata": {
        "id": "Jnl9z4eMIq5H"
      },
      "source": [
        "def cleanUpTweet(txt):\n",
        "  #remove all the mentions using regular expression\n",
        "  txt = re.sub(r'@[A-Za-z0-9_]+', '', txt)\n",
        "  #remove hashtags\n",
        "  txt = re.sub(r'#', '', txt)\n",
        "  #remove retweets\n",
        "  txt = re.sub(r'RT : ', '', txt)\n",
        "  #remove urls\n",
        "  txt = re.sub(r'https?:\\/\\/[A-Za-z0-9\\.\\/]+', '', txt)\n",
        "  return txt"
      ],
      "execution_count": null,
      "outputs": []
    },
    {
      "cell_type": "code",
      "metadata": {
        "id": "3IgbNdIYIrF8"
      },
      "source": [
        "#apply cleanUpTweet function to all the tweets\n",
        "df['Tweet'] = df['Tweet'].apply(cleanUpTweet)"
      ],
      "execution_count": null,
      "outputs": []
    },
    {
      "cell_type": "markdown",
      "metadata": {
        "id": "9vbx6aUXKIAT"
      },
      "source": [
        "# Get subjectivity and polarity of tweets using TextBlob"
      ]
    },
    {
      "cell_type": "code",
      "metadata": {
        "id": "d8wNEvaAKG21"
      },
      "source": [
        "def getTextSubjectivity(txt):\n",
        "  return TextBlob(txt).sentiment.subjectivity"
      ],
      "execution_count": null,
      "outputs": []
    },
    {
      "cell_type": "code",
      "metadata": {
        "id": "GSvsQcKoKHCS"
      },
      "source": [
        "def getTextPolarity(txt):\n",
        "  return TextBlob(txt).sentiment.polarity"
      ],
      "execution_count": null,
      "outputs": []
    },
    {
      "cell_type": "code",
      "metadata": {
        "id": "dqpoeT4MKHFC"
      },
      "source": [
        "#apply getTextSubjectivity and getTextPolarity functions to df\n",
        "\n",
        "#create new column Subjecivity in df\n",
        "df['Subjectivity'] = df['Tweet'].apply(getTextSubjectivity)\n",
        "\n",
        "#create new column Polarity in df\n",
        "df['Polarity'] = df['Tweet'].apply(getTextPolarity)"
      ],
      "execution_count": null,
      "outputs": []
    },
    {
      "cell_type": "code",
      "metadata": {
        "colab": {
          "base_uri": "https://localhost:8080/",
          "height": 357
        },
        "id": "M4j2kxWSLP3Y",
        "outputId": "370d268f-376b-494a-a91a-fe6217f858b7"
      },
      "source": [
        "df.head(10)"
      ],
      "execution_count": null,
      "outputs": [
        {
          "output_type": "execute_result",
          "data": {
            "text/html": [
              "<div>\n",
              "<style scoped>\n",
              "    .dataframe tbody tr th:only-of-type {\n",
              "        vertical-align: middle;\n",
              "    }\n",
              "\n",
              "    .dataframe tbody tr th {\n",
              "        vertical-align: top;\n",
              "    }\n",
              "\n",
              "    .dataframe thead th {\n",
              "        text-align: right;\n",
              "    }\n",
              "</style>\n",
              "<table border=\"1\" class=\"dataframe\">\n",
              "  <thead>\n",
              "    <tr style=\"text-align: right;\">\n",
              "      <th></th>\n",
              "      <th>Tweet</th>\n",
              "      <th>Subjectivity</th>\n",
              "      <th>Polarity</th>\n",
              "    </tr>\n",
              "  </thead>\n",
              "  <tbody>\n",
              "    <tr>\n",
              "      <th>0</th>\n",
              "      <td>T 3958 -\" 🙏🙏🙏🙏🙏\\n\\nAn epic era has drawn curta...</td>\n",
              "      <td>0.400</td>\n",
              "      <td>0.1</td>\n",
              "    </tr>\n",
              "    <tr>\n",
              "      <th>1</th>\n",
              "      <td>T 3958 - An institution has gone .. whenever t...</td>\n",
              "      <td>0.000</td>\n",
              "      <td>0.0</td>\n",
              "    </tr>\n",
              "    <tr>\n",
              "      <th>2</th>\n",
              "      <td>T 3957 - ... a prayer for them that suffer mis...</td>\n",
              "      <td>0.000</td>\n",
              "      <td>0.0</td>\n",
              "    </tr>\n",
              "    <tr>\n",
              "      <th>3</th>\n",
              "      <td>T 3956 - ये दुनिया, दुनिया न रहकर ; सुझाओं की ...</td>\n",
              "      <td>0.000</td>\n",
              "      <td>0.0</td>\n",
              "    </tr>\n",
              "    <tr>\n",
              "      <th>4</th>\n",
              "      <td>T 3955 - सुनो सुनो ऐ दुनिया वालों  :\\nये virus...</td>\n",
              "      <td>0.000</td>\n",
              "      <td>0.0</td>\n",
              "    </tr>\n",
              "    <tr>\n",
              "      <th>5</th>\n",
              "      <td>you make us so proud .. ❤️</td>\n",
              "      <td>1.000</td>\n",
              "      <td>0.8</td>\n",
              "    </tr>\n",
              "    <tr>\n",
              "      <th>6</th>\n",
              "      <td>T 3954 - क्या कर लोगे भैया  ? नहीं, बोलो तो  !!</td>\n",
              "      <td>0.000</td>\n",
              "      <td>0.0</td>\n",
              "    </tr>\n",
              "    <tr>\n",
              "      <th>7</th>\n",
              "      <td>T 3953(i) . CORRECTION :\\nIt is national Docto...</td>\n",
              "      <td>0.000</td>\n",
              "      <td>0.0</td>\n",
              "    </tr>\n",
              "    <tr>\n",
              "      <th>8</th>\n",
              "      <td>T 3953 - \\nOn International Doctors Day .. sal...</td>\n",
              "      <td>0.375</td>\n",
              "      <td>0.4</td>\n",
              "    </tr>\n",
              "    <tr>\n",
              "      <th>9</th>\n",
              "      <td>T 3952 -\\nये कैसा सौदा वक्त मुझसे कर गया\\nतजुर...</td>\n",
              "      <td>0.000</td>\n",
              "      <td>0.0</td>\n",
              "    </tr>\n",
              "  </tbody>\n",
              "</table>\n",
              "</div>"
            ],
            "text/plain": [
              "                                               Tweet  Subjectivity  Polarity\n",
              "0  T 3958 -\" 🙏🙏🙏🙏🙏\\n\\nAn epic era has drawn curta...         0.400       0.1\n",
              "1  T 3958 - An institution has gone .. whenever t...         0.000       0.0\n",
              "2  T 3957 - ... a prayer for them that suffer mis...         0.000       0.0\n",
              "3  T 3956 - ये दुनिया, दुनिया न रहकर ; सुझाओं की ...         0.000       0.0\n",
              "4  T 3955 - सुनो सुनो ऐ दुनिया वालों  :\\nये virus...         0.000       0.0\n",
              "5                        you make us so proud .. ❤️          1.000       0.8\n",
              "6    T 3954 - क्या कर लोगे भैया  ? नहीं, बोलो तो  !!         0.000       0.0\n",
              "7  T 3953(i) . CORRECTION :\\nIt is national Docto...         0.000       0.0\n",
              "8  T 3953 - \\nOn International Doctors Day .. sal...         0.375       0.4\n",
              "9  T 3952 -\\nये कैसा सौदा वक्त मुझसे कर गया\\nतजुर...         0.000       0.0"
            ]
          },
          "metadata": {
            "tags": []
          },
          "execution_count": 16
        }
      ]
    },
    {
      "cell_type": "code",
      "metadata": {
        "id": "aQW-r2lYLZUI"
      },
      "source": [
        "#drop all columns having null tweets\n",
        "df = df.drop(df[df['Tweet']==''].index)"
      ],
      "execution_count": null,
      "outputs": []
    },
    {
      "cell_type": "code",
      "metadata": {
        "colab": {
          "base_uri": "https://localhost:8080/",
          "height": 203
        },
        "id": "qeEeR4UqLqvW",
        "outputId": "682922c1-3720-4f57-c644-fe2517e20a32"
      },
      "source": [
        "df.head()"
      ],
      "execution_count": null,
      "outputs": [
        {
          "output_type": "execute_result",
          "data": {
            "text/html": [
              "<div>\n",
              "<style scoped>\n",
              "    .dataframe tbody tr th:only-of-type {\n",
              "        vertical-align: middle;\n",
              "    }\n",
              "\n",
              "    .dataframe tbody tr th {\n",
              "        vertical-align: top;\n",
              "    }\n",
              "\n",
              "    .dataframe thead th {\n",
              "        text-align: right;\n",
              "    }\n",
              "</style>\n",
              "<table border=\"1\" class=\"dataframe\">\n",
              "  <thead>\n",
              "    <tr style=\"text-align: right;\">\n",
              "      <th></th>\n",
              "      <th>Tweet</th>\n",
              "      <th>Subjectivity</th>\n",
              "      <th>Polarity</th>\n",
              "    </tr>\n",
              "  </thead>\n",
              "  <tbody>\n",
              "    <tr>\n",
              "      <th>0</th>\n",
              "      <td>T 3958 -\" 🙏🙏🙏🙏🙏\\n\\nAn epic era has drawn curta...</td>\n",
              "      <td>0.4</td>\n",
              "      <td>0.1</td>\n",
              "    </tr>\n",
              "    <tr>\n",
              "      <th>1</th>\n",
              "      <td>T 3958 - An institution has gone .. whenever t...</td>\n",
              "      <td>0.0</td>\n",
              "      <td>0.0</td>\n",
              "    </tr>\n",
              "    <tr>\n",
              "      <th>2</th>\n",
              "      <td>T 3957 - ... a prayer for them that suffer mis...</td>\n",
              "      <td>0.0</td>\n",
              "      <td>0.0</td>\n",
              "    </tr>\n",
              "    <tr>\n",
              "      <th>3</th>\n",
              "      <td>T 3956 - ये दुनिया, दुनिया न रहकर ; सुझाओं की ...</td>\n",
              "      <td>0.0</td>\n",
              "      <td>0.0</td>\n",
              "    </tr>\n",
              "    <tr>\n",
              "      <th>4</th>\n",
              "      <td>T 3955 - सुनो सुनो ऐ दुनिया वालों  :\\nये virus...</td>\n",
              "      <td>0.0</td>\n",
              "      <td>0.0</td>\n",
              "    </tr>\n",
              "  </tbody>\n",
              "</table>\n",
              "</div>"
            ],
            "text/plain": [
              "                                               Tweet  Subjectivity  Polarity\n",
              "0  T 3958 -\" 🙏🙏🙏🙏🙏\\n\\nAn epic era has drawn curta...           0.4       0.1\n",
              "1  T 3958 - An institution has gone .. whenever t...           0.0       0.0\n",
              "2  T 3957 - ... a prayer for them that suffer mis...           0.0       0.0\n",
              "3  T 3956 - ये दुनिया, दुनिया न रहकर ; सुझाओं की ...           0.0       0.0\n",
              "4  T 3955 - सुनो सुनो ऐ दुनिया वालों  :\\nये virus...           0.0       0.0"
            ]
          },
          "metadata": {
            "tags": []
          },
          "execution_count": 18
        }
      ]
    },
    {
      "cell_type": "code",
      "metadata": {
        "colab": {
          "base_uri": "https://localhost:8080/"
        },
        "id": "kTU97r3nrMwv",
        "outputId": "f8f0ed93-f38f-4af6-d028-f4b631aa7756"
      },
      "source": [
        "df1 = df.head(10)\n",
        "print(df1)"
      ],
      "execution_count": null,
      "outputs": [
        {
          "output_type": "stream",
          "text": [
            "                                               Tweet  Subjectivity  Polarity\n",
            "0  T 3958 -\" 🙏🙏🙏🙏🙏\\n\\nAn epic era has drawn curta...         0.400       0.1\n",
            "1  T 3958 - An institution has gone .. whenever t...         0.000       0.0\n",
            "2  T 3957 - ... a prayer for them that suffer mis...         0.000       0.0\n",
            "3  T 3956 - ये दुनिया, दुनिया न रहकर ; सुझाओं की ...         0.000       0.0\n",
            "4  T 3955 - सुनो सुनो ऐ दुनिया वालों  :\\nये virus...         0.000       0.0\n",
            "5                        you make us so proud .. ❤️          1.000       0.8\n",
            "6    T 3954 - क्या कर लोगे भैया  ? नहीं, बोलो तो  !!         0.000       0.0\n",
            "7  T 3953(i) . CORRECTION :\\nIt is national Docto...         0.000       0.0\n",
            "8  T 3953 - \\nOn International Doctors Day .. sal...         0.375       0.4\n",
            "9  T 3952 -\\nये कैसा सौदा वक्त मुझसे कर गया\\nतजुर...         0.000       0.0\n"
          ],
          "name": "stdout"
        }
      ]
    },
    {
      "cell_type": "markdown",
      "metadata": {
        "id": "2-cbqtovLuLg"
      },
      "source": [
        "# Text Analysis"
      ]
    },
    {
      "cell_type": "code",
      "metadata": {
        "id": "RzqTSdepLtlp"
      },
      "source": [
        "#polarity value < 0  -> negative sentiment\n",
        "#polarity value = 0  -> neutral sentiment\n",
        "#polarity value > 0  -> positive sentiment\n",
        "\n",
        "#define a function for this\n",
        "\n",
        "def getTextAnalysis(pol):\n",
        "  if pol < 0:\n",
        "    return \"Negative\"\n",
        "  elif pol == 0:\n",
        "    return \"Neutral\"\n",
        "  else:\n",
        "    return \"Positive\""
      ],
      "execution_count": null,
      "outputs": []
    },
    {
      "cell_type": "code",
      "metadata": {
        "id": "UtWRHUcvMMXC"
      },
      "source": [
        "#apply to polarity column in df, create new column Sentiment\n",
        "\n",
        "df['Sentiment'] = df['Polarity'].apply(getTextAnalysis)"
      ],
      "execution_count": null,
      "outputs": []
    },
    {
      "cell_type": "code",
      "metadata": {
        "colab": {
          "base_uri": "https://localhost:8080/",
          "height": 1000
        },
        "id": "gcNVrS1PMa_d",
        "outputId": "5a41ba59-e24b-41f0-c8a5-11daeb996e7b"
      },
      "source": [
        "df.head(50)"
      ],
      "execution_count": null,
      "outputs": [
        {
          "output_type": "execute_result",
          "data": {
            "text/html": [
              "<div>\n",
              "<style scoped>\n",
              "    .dataframe tbody tr th:only-of-type {\n",
              "        vertical-align: middle;\n",
              "    }\n",
              "\n",
              "    .dataframe tbody tr th {\n",
              "        vertical-align: top;\n",
              "    }\n",
              "\n",
              "    .dataframe thead th {\n",
              "        text-align: right;\n",
              "    }\n",
              "</style>\n",
              "<table border=\"1\" class=\"dataframe\">\n",
              "  <thead>\n",
              "    <tr style=\"text-align: right;\">\n",
              "      <th></th>\n",
              "      <th>Tweet</th>\n",
              "      <th>Subjectivity</th>\n",
              "      <th>Polarity</th>\n",
              "      <th>Sentiment</th>\n",
              "    </tr>\n",
              "  </thead>\n",
              "  <tbody>\n",
              "    <tr>\n",
              "      <th>0</th>\n",
              "      <td>T 3958 -\" 🙏🙏🙏🙏🙏\\n\\nAn epic era has drawn curta...</td>\n",
              "      <td>0.400000</td>\n",
              "      <td>0.100000</td>\n",
              "      <td>Positive</td>\n",
              "    </tr>\n",
              "    <tr>\n",
              "      <th>1</th>\n",
              "      <td>T 3958 - An institution has gone .. whenever t...</td>\n",
              "      <td>0.000000</td>\n",
              "      <td>0.000000</td>\n",
              "      <td>Neutral</td>\n",
              "    </tr>\n",
              "    <tr>\n",
              "      <th>2</th>\n",
              "      <td>T 3957 - ... a prayer for them that suffer mis...</td>\n",
              "      <td>0.000000</td>\n",
              "      <td>0.000000</td>\n",
              "      <td>Neutral</td>\n",
              "    </tr>\n",
              "    <tr>\n",
              "      <th>3</th>\n",
              "      <td>T 3956 - ये दुनिया, दुनिया न रहकर ; सुझाओं की ...</td>\n",
              "      <td>0.000000</td>\n",
              "      <td>0.000000</td>\n",
              "      <td>Neutral</td>\n",
              "    </tr>\n",
              "    <tr>\n",
              "      <th>4</th>\n",
              "      <td>T 3955 - सुनो सुनो ऐ दुनिया वालों  :\\nये virus...</td>\n",
              "      <td>0.000000</td>\n",
              "      <td>0.000000</td>\n",
              "      <td>Neutral</td>\n",
              "    </tr>\n",
              "    <tr>\n",
              "      <th>5</th>\n",
              "      <td>you make us so proud .. ❤️</td>\n",
              "      <td>1.000000</td>\n",
              "      <td>0.800000</td>\n",
              "      <td>Positive</td>\n",
              "    </tr>\n",
              "    <tr>\n",
              "      <th>6</th>\n",
              "      <td>T 3954 - क्या कर लोगे भैया  ? नहीं, बोलो तो  !!</td>\n",
              "      <td>0.000000</td>\n",
              "      <td>0.000000</td>\n",
              "      <td>Neutral</td>\n",
              "    </tr>\n",
              "    <tr>\n",
              "      <th>7</th>\n",
              "      <td>T 3953(i) . CORRECTION :\\nIt is national Docto...</td>\n",
              "      <td>0.000000</td>\n",
              "      <td>0.000000</td>\n",
              "      <td>Neutral</td>\n",
              "    </tr>\n",
              "    <tr>\n",
              "      <th>8</th>\n",
              "      <td>T 3953 - \\nOn International Doctors Day .. sal...</td>\n",
              "      <td>0.375000</td>\n",
              "      <td>0.400000</td>\n",
              "      <td>Positive</td>\n",
              "    </tr>\n",
              "    <tr>\n",
              "      <th>9</th>\n",
              "      <td>T 3952 -\\nये कैसा सौदा वक्त मुझसे कर गया\\nतजुर...</td>\n",
              "      <td>0.000000</td>\n",
              "      <td>0.000000</td>\n",
              "      <td>Neutral</td>\n",
              "    </tr>\n",
              "    <tr>\n",
              "      <th>10</th>\n",
              "      <td>T 3951 - \\n\"अनहोनी को होनी कर दे ; होनी को अनह...</td>\n",
              "      <td>0.000000</td>\n",
              "      <td>0.000000</td>\n",
              "      <td>Neutral</td>\n",
              "    </tr>\n",
              "    <tr>\n",
              "      <th>11</th>\n",
              "      <td>T 3950 - मेरा costar, बात कुछ भी हो इनके कान ज...</td>\n",
              "      <td>0.000000</td>\n",
              "      <td>0.000000</td>\n",
              "      <td>Neutral</td>\n",
              "    </tr>\n",
              "    <tr>\n",
              "      <th>12</th>\n",
              "      <td>wah .. adbhut .. 👏👏👏👏👏 .. and what a moment in...</td>\n",
              "      <td>0.000000</td>\n",
              "      <td>0.000000</td>\n",
              "      <td>Neutral</td>\n",
              "    </tr>\n",
              "    <tr>\n",
              "      <th>13</th>\n",
              "      <td>T 3949 - The fabric of India, pun intended, is...</td>\n",
              "      <td>0.000000</td>\n",
              "      <td>0.000000</td>\n",
              "      <td>Neutral</td>\n",
              "    </tr>\n",
              "    <tr>\n",
              "      <th>14</th>\n",
              "      <td>T 3949 - Speak 1 word today and it will be hea...</td>\n",
              "      <td>0.000000</td>\n",
              "      <td>0.000000</td>\n",
              "      <td>Neutral</td>\n",
              "    </tr>\n",
              "    <tr>\n",
              "      <th>15</th>\n",
              "      <td>T 3948 - प्रार्थना ही उद्धार  🙏</td>\n",
              "      <td>0.000000</td>\n",
              "      <td>0.000000</td>\n",
              "      <td>Neutral</td>\n",
              "    </tr>\n",
              "    <tr>\n",
              "      <th>16</th>\n",
              "      <td>T 3947 - \\n*ईर्ष्या घृणी त्वसंतुष्टःक्रोधनो नि...</td>\n",
              "      <td>0.000000</td>\n",
              "      <td>0.000000</td>\n",
              "      <td>Neutral</td>\n",
              "    </tr>\n",
              "    <tr>\n",
              "      <th>17</th>\n",
              "      <td>T 3946 - \" जो नि:शुल्क है , वही सबसे ज़्यादा क...</td>\n",
              "      <td>0.000000</td>\n",
              "      <td>0.000000</td>\n",
              "      <td>Neutral</td>\n",
              "    </tr>\n",
              "    <tr>\n",
              "      <th>18</th>\n",
              "      <td>T 3945 - ... 7 बजे निकले काम पे  ; shooting हो...</td>\n",
              "      <td>0.000000</td>\n",
              "      <td>0.000000</td>\n",
              "      <td>Neutral</td>\n",
              "    </tr>\n",
              "    <tr>\n",
              "      <th>19</th>\n",
              "      <td>T 3944 - .. there are times when there is noth...</td>\n",
              "      <td>0.000000</td>\n",
              "      <td>0.000000</td>\n",
              "      <td>Neutral</td>\n",
              "    </tr>\n",
              "    <tr>\n",
              "      <th>20</th>\n",
              "      <td>T 3943 - where there is hope .. there is life ...</td>\n",
              "      <td>0.000000</td>\n",
              "      <td>0.000000</td>\n",
              "      <td>Neutral</td>\n",
              "    </tr>\n",
              "    <tr>\n",
              "      <th>21</th>\n",
              "      <td>T 3942 - FATHER ..\\n\\n</td>\n",
              "      <td>0.000000</td>\n",
              "      <td>0.000000</td>\n",
              "      <td>Neutral</td>\n",
              "    </tr>\n",
              "    <tr>\n",
              "      <th>22</th>\n",
              "      <td>T 3942 - ... and music the best friend of your...</td>\n",
              "      <td>0.300000</td>\n",
              "      <td>1.000000</td>\n",
              "      <td>Positive</td>\n",
              "    </tr>\n",
              "    <tr>\n",
              "      <th>23</th>\n",
              "      <td>T 3942 - .. and Yoga the best friend of your b...</td>\n",
              "      <td>0.300000</td>\n",
              "      <td>1.000000</td>\n",
              "      <td>Positive</td>\n",
              "    </tr>\n",
              "    <tr>\n",
              "      <th>24</th>\n",
              "      <td>T 3942 - ... at work with man/woman's best fri...</td>\n",
              "      <td>0.300000</td>\n",
              "      <td>1.000000</td>\n",
              "      <td>Positive</td>\n",
              "    </tr>\n",
              "    <tr>\n",
              "      <th>25</th>\n",
              "      <td>T 3941 - The last page of Milkha Singh's book ...</td>\n",
              "      <td>0.066667</td>\n",
              "      <td>0.000000</td>\n",
              "      <td>Neutral</td>\n",
              "    </tr>\n",
              "    <tr>\n",
              "      <th>26</th>\n",
              "      <td>T 3940 - In grief .. Milkha Singh passes away ...</td>\n",
              "      <td>0.387500</td>\n",
              "      <td>0.125000</td>\n",
              "      <td>Positive</td>\n",
              "    </tr>\n",
              "    <tr>\n",
              "      <th>27</th>\n",
              "      <td>T 3940 - \\nधीरे धीरे रे मना, धीरे सब कुछ होत ह...</td>\n",
              "      <td>0.000000</td>\n",
              "      <td>0.000000</td>\n",
              "      <td>Neutral</td>\n",
              "    </tr>\n",
              "    <tr>\n",
              "      <th>28</th>\n",
              "      <td>T 3939 - Legendary PremNathji's Lyrics &amp;amp; C...</td>\n",
              "      <td>1.000000</td>\n",
              "      <td>1.000000</td>\n",
              "      <td>Positive</td>\n",
              "    </tr>\n",
              "    <tr>\n",
              "      <th>29</th>\n",
              "      <td>T 3939 - Krutik Thakur .. a young photographer...</td>\n",
              "      <td>0.700000</td>\n",
              "      <td>0.475000</td>\n",
              "      <td>Positive</td>\n",
              "    </tr>\n",
              "    <tr>\n",
              "      <th>30</th>\n",
              "      <td>T 3938 - \\nविचार  , आशाएँ  और पूर्णता की प्रार...</td>\n",
              "      <td>0.000000</td>\n",
              "      <td>0.000000</td>\n",
              "      <td>Neutral</td>\n",
              "    </tr>\n",
              "    <tr>\n",
              "      <th>31</th>\n",
              "      <td>T 3937 - Two greats of Indian Cinema .. Vetera...</td>\n",
              "      <td>0.000000</td>\n",
              "      <td>0.000000</td>\n",
              "      <td>Neutral</td>\n",
              "    </tr>\n",
              "    <tr>\n",
              "      <th>32</th>\n",
              "      <td>T 3937 - \\nजीवन की संतुष्टि  ..  जीवन का मोक्ष...</td>\n",
              "      <td>0.000000</td>\n",
              "      <td>0.000000</td>\n",
              "      <td>Neutral</td>\n",
              "    </tr>\n",
              "    <tr>\n",
              "      <th>33</th>\n",
              "      <td>T 3936 -🙏 ईश्वर की कृपा बनी रहे  🙏</td>\n",
              "      <td>0.000000</td>\n",
              "      <td>0.000000</td>\n",
              "      <td>Neutral</td>\n",
              "    </tr>\n",
              "    <tr>\n",
              "      <th>34</th>\n",
              "      <td>T 3935 - keep safe and protected .. my prayers 🙏</td>\n",
              "      <td>0.500000</td>\n",
              "      <td>0.500000</td>\n",
              "      <td>Positive</td>\n",
              "    </tr>\n",
              "    <tr>\n",
              "      <th>35</th>\n",
              "      <td>T 3934 -  🙏🙏 श्री गणेशाय नमः 🙏🙏</td>\n",
              "      <td>0.000000</td>\n",
              "      <td>0.000000</td>\n",
              "      <td>Neutral</td>\n",
              "    </tr>\n",
              "    <tr>\n",
              "      <th>36</th>\n",
              "      <td>T 3934 - prayers .. 🙏🙏</td>\n",
              "      <td>0.000000</td>\n",
              "      <td>0.000000</td>\n",
              "      <td>Neutral</td>\n",
              "    </tr>\n",
              "    <tr>\n",
              "      <th>37</th>\n",
              "      <td>T 3933 - .... new mantra of the genNext .. MAN...</td>\n",
              "      <td>0.454545</td>\n",
              "      <td>0.213068</td>\n",
              "      <td>Positive</td>\n",
              "    </tr>\n",
              "    <tr>\n",
              "      <th>38</th>\n",
              "      <td>T 3932 - प्रश्न प्रश्न प्रश्न  - राय विचार सम्...</td>\n",
              "      <td>0.000000</td>\n",
              "      <td>0.000000</td>\n",
              "      <td>Neutral</td>\n",
              "    </tr>\n",
              "    <tr>\n",
              "      <th>39</th>\n",
              "      <td>T 3931 - \" है अँधेरी रात पर दीवा जलाना कब माना...</td>\n",
              "      <td>0.000000</td>\n",
              "      <td>0.000000</td>\n",
              "      <td>Neutral</td>\n",
              "    </tr>\n",
              "    <tr>\n",
              "      <th>40</th>\n",
              "      <td>T 3930 -\" जिन्दगी का फलसफा भी\\nकितना अजीब है,_...</td>\n",
              "      <td>0.000000</td>\n",
              "      <td>0.000000</td>\n",
              "      <td>Neutral</td>\n",
              "    </tr>\n",
              "    <tr>\n",
              "      <th>41</th>\n",
              "      <td>T ३९२९ 3929 should be the right numbering of t...</td>\n",
              "      <td>0.301190</td>\n",
              "      <td>0.142857</td>\n",
              "      <td>Positive</td>\n",
              "    </tr>\n",
              "    <tr>\n",
              "      <th>42</th>\n",
              "      <td>T 3829 - पिछले Tweet की numbering ग़लत हो गयी ...</td>\n",
              "      <td>0.000000</td>\n",
              "      <td>0.000000</td>\n",
              "      <td>Neutral</td>\n",
              "    </tr>\n",
              "    <tr>\n",
              "      <th>43</th>\n",
              "      <td>T 3829 - Even though conditions on CoviD, in s...</td>\n",
              "      <td>0.000000</td>\n",
              "      <td>0.000000</td>\n",
              "      <td>Neutral</td>\n",
              "    </tr>\n",
              "    <tr>\n",
              "      <th>44</th>\n",
              "      <td>T 3928 - keep the calm .. keep following the C...</td>\n",
              "      <td>0.425000</td>\n",
              "      <td>0.150000</td>\n",
              "      <td>Positive</td>\n",
              "    </tr>\n",
              "    <tr>\n",
              "      <th>45</th>\n",
              "      <td>T 3927 - 💐ओम नमो भगवते वासुदेवाय 💐 वैशाख मास, ...</td>\n",
              "      <td>0.000000</td>\n",
              "      <td>0.000000</td>\n",
              "      <td>Neutral</td>\n",
              "    </tr>\n",
              "    <tr>\n",
              "      <th>46</th>\n",
              "      <td>T 3927 - .. prayers and hope .. never were the...</td>\n",
              "      <td>0.500000</td>\n",
              "      <td>0.781250</td>\n",
              "      <td>Positive</td>\n",
              "    </tr>\n",
              "    <tr>\n",
              "      <th>47</th>\n",
              "      <td>T 3926 - ... the universality of ONE word ..</td>\n",
              "      <td>0.000000</td>\n",
              "      <td>0.000000</td>\n",
              "      <td>Neutral</td>\n",
              "    </tr>\n",
              "    <tr>\n",
              "      <th>48</th>\n",
              "      <td>T 3925 - Overwhelmed by the love shown by the ...</td>\n",
              "      <td>0.600000</td>\n",
              "      <td>0.500000</td>\n",
              "      <td>Positive</td>\n",
              "    </tr>\n",
              "    <tr>\n",
              "      <th>49</th>\n",
              "      <td>T 3924 - Jaya and I thank all those that have ...</td>\n",
              "      <td>0.000000</td>\n",
              "      <td>0.000000</td>\n",
              "      <td>Neutral</td>\n",
              "    </tr>\n",
              "  </tbody>\n",
              "</table>\n",
              "</div>"
            ],
            "text/plain": [
              "                                                Tweet  ...  Sentiment\n",
              "0   T 3958 -\" 🙏🙏🙏🙏🙏\\n\\nAn epic era has drawn curta...  ...   Positive\n",
              "1   T 3958 - An institution has gone .. whenever t...  ...    Neutral\n",
              "2   T 3957 - ... a prayer for them that suffer mis...  ...    Neutral\n",
              "3   T 3956 - ये दुनिया, दुनिया न रहकर ; सुझाओं की ...  ...    Neutral\n",
              "4   T 3955 - सुनो सुनो ऐ दुनिया वालों  :\\nये virus...  ...    Neutral\n",
              "5                         you make us so proud .. ❤️   ...   Positive\n",
              "6     T 3954 - क्या कर लोगे भैया  ? नहीं, बोलो तो  !!  ...    Neutral\n",
              "7   T 3953(i) . CORRECTION :\\nIt is national Docto...  ...    Neutral\n",
              "8   T 3953 - \\nOn International Doctors Day .. sal...  ...   Positive\n",
              "9   T 3952 -\\nये कैसा सौदा वक्त मुझसे कर गया\\nतजुर...  ...    Neutral\n",
              "10  T 3951 - \\n\"अनहोनी को होनी कर दे ; होनी को अनह...  ...    Neutral\n",
              "11  T 3950 - मेरा costar, बात कुछ भी हो इनके कान ज...  ...    Neutral\n",
              "12  wah .. adbhut .. 👏👏👏👏👏 .. and what a moment in...  ...    Neutral\n",
              "13  T 3949 - The fabric of India, pun intended, is...  ...    Neutral\n",
              "14  T 3949 - Speak 1 word today and it will be hea...  ...    Neutral\n",
              "15                   T 3948 - प्रार्थना ही उद्धार  🙏   ...    Neutral\n",
              "16  T 3947 - \\n*ईर्ष्या घृणी त्वसंतुष्टःक्रोधनो नि...  ...    Neutral\n",
              "17  T 3946 - \" जो नि:शुल्क है , वही सबसे ज़्यादा क...  ...    Neutral\n",
              "18  T 3945 - ... 7 बजे निकले काम पे  ; shooting हो...  ...    Neutral\n",
              "19  T 3944 - .. there are times when there is noth...  ...    Neutral\n",
              "20  T 3943 - where there is hope .. there is life ...  ...    Neutral\n",
              "21                            T 3942 - FATHER ..\\n\\n   ...    Neutral\n",
              "22  T 3942 - ... and music the best friend of your...  ...   Positive\n",
              "23  T 3942 - .. and Yoga the best friend of your b...  ...   Positive\n",
              "24  T 3942 - ... at work with man/woman's best fri...  ...   Positive\n",
              "25  T 3941 - The last page of Milkha Singh's book ...  ...    Neutral\n",
              "26  T 3940 - In grief .. Milkha Singh passes away ...  ...   Positive\n",
              "27  T 3940 - \\nधीरे धीरे रे मना, धीरे सब कुछ होत ह...  ...    Neutral\n",
              "28  T 3939 - Legendary PremNathji's Lyrics &amp; C...  ...   Positive\n",
              "29  T 3939 - Krutik Thakur .. a young photographer...  ...   Positive\n",
              "30  T 3938 - \\nविचार  , आशाएँ  और पूर्णता की प्रार...  ...    Neutral\n",
              "31  T 3937 - Two greats of Indian Cinema .. Vetera...  ...    Neutral\n",
              "32  T 3937 - \\nजीवन की संतुष्टि  ..  जीवन का मोक्ष...  ...    Neutral\n",
              "33                T 3936 -🙏 ईश्वर की कृपा बनी रहे  🙏   ...    Neutral\n",
              "34   T 3935 - keep safe and protected .. my prayers 🙏  ...   Positive\n",
              "35                   T 3934 -  🙏🙏 श्री गणेशाय नमः 🙏🙏   ...    Neutral\n",
              "36                             T 3934 - prayers .. 🙏🙏  ...    Neutral\n",
              "37  T 3933 - .... new mantra of the genNext .. MAN...  ...   Positive\n",
              "38  T 3932 - प्रश्न प्रश्न प्रश्न  - राय विचार सम्...  ...    Neutral\n",
              "39  T 3931 - \" है अँधेरी रात पर दीवा जलाना कब माना...  ...    Neutral\n",
              "40  T 3930 -\" जिन्दगी का फलसफा भी\\nकितना अजीब है,_...  ...    Neutral\n",
              "41  T ३९२९ 3929 should be the right numbering of t...  ...   Positive\n",
              "42  T 3829 - पिछले Tweet की numbering ग़लत हो गयी ...  ...    Neutral\n",
              "43  T 3829 - Even though conditions on CoviD, in s...  ...    Neutral\n",
              "44  T 3928 - keep the calm .. keep following the C...  ...   Positive\n",
              "45  T 3927 - 💐ओम नमो भगवते वासुदेवाय 💐 वैशाख मास, ...  ...    Neutral\n",
              "46  T 3927 - .. prayers and hope .. never were the...  ...   Positive\n",
              "47       T 3926 - ... the universality of ONE word ..  ...    Neutral\n",
              "48  T 3925 - Overwhelmed by the love shown by the ...  ...   Positive\n",
              "49  T 3924 - Jaya and I thank all those that have ...  ...    Neutral\n",
              "\n",
              "[50 rows x 4 columns]"
            ]
          },
          "metadata": {
            "tags": []
          },
          "execution_count": 22
        }
      ]
    },
    {
      "cell_type": "code",
      "metadata": {
        "colab": {
          "base_uri": "https://localhost:8080/"
        },
        "id": "748d7k9WMhPM",
        "outputId": "a5771be7-a390-407d-dde8-8d5ea82a5cad"
      },
      "source": [
        "#calculate positive percentage\n",
        "positive = df[df['Sentiment']=='Positive']\n",
        "print(str(positive.shape[0]/(df.shape[0])*100)+\"% of positive tweets\")\n",
        "pos = positive.shape[0]/df.shape[0]*100"
      ],
      "execution_count": null,
      "outputs": [
        {
          "output_type": "stream",
          "text": [
            "30.0% of positive tweets\n"
          ],
          "name": "stdout"
        }
      ]
    },
    {
      "cell_type": "code",
      "metadata": {
        "colab": {
          "base_uri": "https://localhost:8080/"
        },
        "id": "VkbR4-drND_h",
        "outputId": "0628544c-5d03-49d7-c8ee-1ab4384c9848"
      },
      "source": [
        "#calculate negative percentage\n",
        "negative = df[df['Sentiment']=='Negative']\n",
        "print(str(negative.shape[0]/(df.shape[0])*100)+\"% of negative tweets\")\n",
        "neg = negative.shape[0]/df.shape[0]*100"
      ],
      "execution_count": null,
      "outputs": [
        {
          "output_type": "stream",
          "text": [
            "0.0% of negative tweets\n"
          ],
          "name": "stdout"
        }
      ]
    },
    {
      "cell_type": "code",
      "metadata": {
        "colab": {
          "base_uri": "https://localhost:8080/"
        },
        "id": "doyIMnO2NqKs",
        "outputId": "a9779503-2581-49bf-be67-c3fd0a9dcda5"
      },
      "source": [
        "#calculate neutral percentage\n",
        "neutral = df[df['Sentiment']=='Neutral']\n",
        "print(str(neutral.shape[0]/(df.shape[0])*100)+\"% of neutral tweets\")\n",
        "neu = neutral.shape[0]/df.shape[0]*100"
      ],
      "execution_count": null,
      "outputs": [
        {
          "output_type": "stream",
          "text": [
            "70.0% of neutral tweets\n"
          ],
          "name": "stdout"
        }
      ]
    },
    {
      "cell_type": "markdown",
      "metadata": {
        "id": "DdlPk7X6OGGa"
      },
      "source": [
        "# Visualization using Pie Chart"
      ]
    },
    {
      "cell_type": "code",
      "metadata": {
        "id": "OWDaOzZtOMsE"
      },
      "source": [
        "explode = (0,0.1,0)\n",
        "labels = 'Positive', 'Negative', 'Neutral'\n",
        "sizes = [pos,neg,neu]\n",
        "colors = ['yellowgreen', 'lightcoral', 'gold']"
      ],
      "execution_count": null,
      "outputs": []
    },
    {
      "cell_type": "code",
      "metadata": {
        "colab": {
          "base_uri": "https://localhost:8080/",
          "height": 248
        },
        "id": "x1WCefsBOgM9",
        "outputId": "d23d2435-1ea6-43a7-f335-c94ae88a33b6"
      },
      "source": [
        "plt.pie(sizes, explode, colors = colors, autopct = '%1.1f%%', startangle = 120)\n",
        "plt.legend(labels, loc = (-0.05, 0.05), shadow = True)\n",
        "plt.axis('equal')\n",
        "plt.savefig(\"TwitterSentimentAnalysis.png\")"
      ],
      "execution_count": null,
      "outputs": [
        {
          "output_type": "display_data",
          "data": {
            "image/png": "[encoded data removed]",
            "text/plain": [
              "<Figure size 432x288 with 1 Axes>"
            ]
          },
          "metadata": {
            "tags": []
          }
        }
      ]
    },
    {
      "cell_type": "code",
      "metadata": {
        "colab": {
          "base_uri": "https://localhost:8080/",
          "height": 298
        },
        "id": "Ao_h1YuqPWLe",
        "outputId": "64f50d56-5db6-4d57-8e0e-bad5fd31d026"
      },
      "source": [
        "labels = df.groupby('Sentiment').count().index.values\n",
        "values = df.groupby('Sentiment').size().values\n",
        "plt.bar(labels, values,color=colors)\n",
        "print(labels)\n",
        "print(values)"
      ],
      "execution_count": null,
      "outputs": [
        {
          "output_type": "stream",
          "text": [
            "['Neutral' 'Positive']\n",
            "[35 15]\n"
          ],
          "name": "stdout"
        },
        {
          "output_type": "display_data",
          "data": {
            "image/png": "[encoded data removed]",
            "text/plain": [
              "<Figure size 432x288 with 1 Axes>"
            ]
          },
          "metadata": {
            "tags": [],
            "needs_background": "light"
          }
        }
      ]
    },
    {
      "cell_type": "markdown",
      "metadata": {
        "id": "PJHJ-tkgPWdc"
      },
      "source": [
        "# Polarity VS Subjectivity"
      ]
    },
    {
      "cell_type": "code",
      "metadata": {
        "colab": {
          "base_uri": "https://localhost:8080/",
          "height": 295
        },
        "id": "HmnczdmGP5LH",
        "outputId": "3ccb95a5-5663-44f4-ced8-30f612438baf"
      },
      "source": [
        "for index, row in df.iterrows():\n",
        "  if row['Sentiment'] == 'Positive':\n",
        "    plt.scatter(row['Polarity'], row['Subjectivity'], color = 'green')\n",
        "  elif row['Sentiment'] == 'Negative':\n",
        "    plt.scatter(row['Polarity'], row['Subjectivity'], color = 'red')\n",
        "  elif row['Sentiment'] == 'Neutral':\n",
        "    plt.scatter(row['Polarity'], row['Subjectivity'], color = 'yellow')\n",
        "\n",
        "plt.title(\"Twitter Sentiment Analysis\")\n",
        "plt.xlabel(\"Polarity\")\n",
        "plt.ylabel(\"Subjectivity\")\n",
        "plt.show()"
      ],
      "execution_count": null,
      "outputs": [
        {
          "output_type": "display_data",
          "data": {
            "image/png": "[encoded data removed]",
            "text/plain": [
              "<Figure size 432x288 with 1 Axes>"
            ]
          },
          "metadata": {
            "tags": [],
            "needs_background": "light"
          }
        }
      ]
    },
    {
      "cell_type": "markdown",
      "metadata": {
        "id": "G4ZrFPO_VcI6"
      },
      "source": [
        "# Word Cloud Visualization"
      ]
    },
    {
      "cell_type": "code",
      "metadata": {
        "colab": {
          "base_uri": "https://localhost:8080/",
          "height": 232
        },
        "id": "m-H-wkSoVbwK",
        "outputId": "f02ed0e5-8dd3-42e6-c4fd-66d40a527eef"
      },
      "source": [
        "# word cloud visualization\n",
        "allWords = ' '.join([twts for twts in df['Tweet']])\n",
        "wordCloud = WordCloud(width=500, height=300, random_state=21, max_font_size=110).generate(allWords)\n",
        "\n",
        "\n",
        "plt.imshow(wordCloud, interpolation=\"bilinear\")\n",
        "plt.axis('off')\n",
        "plt.show()"
      ],
      "execution_count": null,
      "outputs": [
        {
          "output_type": "display_data",
          "data": {
            "image/png": "[encoded data removed]",
            "text/plain": [
              "<Figure size 432x288 with 1 Axes>"
            ]
          },
          "metadata": {
            "tags": [],
            "needs_background": "light"
          }
        }
      ]
    }
  ]
}